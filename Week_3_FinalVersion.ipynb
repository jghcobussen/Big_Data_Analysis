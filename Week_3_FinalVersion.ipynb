{
  "nbformat": 4,
  "nbformat_minor": 0,
  "metadata": {
    "colab": {
      "name": "Week_3_FinalVersion.ipynb",
      "provenance": [],
      "collapsed_sections": [],
      "authorship_tag": "ABX9TyN+LPQ7ppi5uGcouFAHdV8y",
      "include_colab_link": true
    },
    "kernelspec": {
      "name": "python3",
      "display_name": "Python 3"
    }
  },
  "cells": [
    {
      "cell_type": "markdown",
      "metadata": {
        "id": "view-in-github",
        "colab_type": "text"
      },
      "source": [
        "<a href=\"https://colab.research.google.com/github/jghcobussen/PRA3024/blob/master/Week_3_FinalVersion.ipynb\" target=\"_parent\"><img src=\"https://colab.research.google.com/assets/colab-badge.svg\" alt=\"Open In Colab\"/></a>"
      ]
    },
    {
      "cell_type": "code",
      "metadata": {
        "id": "h4cQw16VWPHw",
        "colab_type": "code",
        "outputId": "8842e030-abf8-4b49-bd35-dc23152caf63",
        "colab": {
          "base_uri": "https://localhost:8080/",
          "height": 50
        }
      },
      "source": [
        "# Import statements\n",
        "\n",
        "!pip install sympy\n",
        "\n",
        "from math import *\n",
        "from sympy import *\n",
        "from numpy import *\n",
        "from scipy import *\n",
        "from scipy.integrate import quad"
      ],
      "execution_count": 1,
      "outputs": [
        {
          "output_type": "stream",
          "text": [
            "Requirement already satisfied: sympy in /usr/local/lib/python3.6/dist-packages (1.1.1)\n",
            "Requirement already satisfied: mpmath>=0.19 in /usr/local/lib/python3.6/dist-packages (from sympy) (1.1.0)\n"
          ],
          "name": "stdout"
        }
      ]
    },
    {
      "cell_type": "code",
      "metadata": {
        "id": "P-CWfxlqWbPD",
        "colab_type": "code",
        "colab": {}
      },
      "source": [
        "# Define constants\n",
        "\n",
        "G = 6.67408*(10**(-11))\n",
        "c = 2.99792458*(10**8)\n",
        "\n",
        "solarmass = 1.9891*(10**30)\n",
        "m1 = 10*solarmass\n",
        "m2 = 10*solarmass\n",
        "Mtot = m1 + m2\n",
        "\n",
        "f0 = 215\n",
        "s0 = 10**(-49)\n",
        "A = 10\n",
        "\n",
        "value_E = (m1*m2)/Mtot\n",
        "value_Mchirp = (((m1*m2)/Mtot)**(3/5))*Mtot\n",
        "value_phic = 1\n",
        "value_tc = 1\n"
      ],
      "execution_count": 0,
      "outputs": []
    },
    {
      "cell_type": "code",
      "metadata": {
        "id": "puLuf4gcWyxD",
        "colab_type": "code",
        "outputId": "d386d45a-72f5-4cea-ba0e-32eea0fc0894",
        "colab": {
          "base_uri": "https://localhost:8080/",
          "height": 84
        }
      },
      "source": [
        "# Method to compute A using the function given in the exercise. However, the value for A turns out many powers higher than 10 and the reason for this is not clear.\n",
        "\n",
        "def integrand_S(f, s0, f0):\n",
        "  return (f**(-7/6))/(s0*((f/f0)**(-4.14)-5*(f/f0)**(-2)+111*(1-(f/f0)**2+((f/f0)**4)/2)/(1+((f/f0)**2)/2)))\n",
        "\n",
        "def A_SNR(SNR, lowerbound, upperbound):\n",
        "  Int_S = (quad(integrand_S, lowerbound, upperbound, args=(f0,s0)))\n",
        "  S = 4*Int_S[0]\n",
        "  A = sqrt(SNR/S)\n",
        "  return A\n",
        "\n",
        "print(\"The value of A is:\")\n",
        "A_SNR(10, 20, 300)"
      ],
      "execution_count": 3,
      "outputs": [
        {
          "output_type": "stream",
          "text": [
            "The value of A is:\n"
          ],
          "name": "stdout"
        },
        {
          "output_type": "stream",
          "text": [
            "/usr/local/lib/python3.6/dist-packages/ipykernel_launcher.py:8: DeprecationWarning: scipy.sqrt is deprecated and will be removed in SciPy 2.0.0, use numpy.lib.scimath.sqrt instead\n",
            "  \n"
          ],
          "name": "stderr"
        },
        {
          "output_type": "execute_result",
          "data": {
            "text/plain": [
              "9.242963185135387e+52"
            ]
          },
          "metadata": {
            "tags": []
          },
          "execution_count": 3
        }
      ]
    },
    {
      "cell_type": "code",
      "metadata": {
        "id": "KHlz-uSIabEY",
        "colab_type": "code",
        "colab": {
          "base_uri": "https://localhost:8080/",
          "height": 34
        },
        "outputId": "a547cdb3-932e-458d-8ce4-7145b8a1e3ad"
      },
      "source": [
        "# Code that attempts to allow the user to add the desired PN to the function h. Variables are defined as \n",
        "# symbols using the sympy package.\n",
        "\n",
        "# This code block is not finished yet!\n",
        "\n",
        "f = Symbol('f')\n",
        "phic = Symbol('phic')\n",
        "tc = Symbol('tc')\n",
        "E = Symbol('E')\n",
        "Mchirp = Symbol('Mchirp')\n",
        "\n",
        "v = (pi*((Mchirp/(E**3/5)))*f)**(1/3)\n",
        "vlso = 1\n",
        "gamma = 1\n",
        "lamda = -0.6451\n",
        "theta = -1.28\n",
        "\n",
        "def PNvalue(pn):\n",
        "\n",
        "  number = pn*2\n",
        "\n",
        "  alpha0 = 1\n",
        "  alpha1 = 0\n",
        "  alpha2 = (20/9)*( (743/336) + (11/4)*E)\n",
        "  alpha3 = -16*pi\n",
        "  alpha4 = 10*((3058673/1016064) + (5429/1008)*E + (617/144)*(E**2))\n",
        "  alpha5 = pi*( (38645/756) + (38645/252)*ln(((pi*(Mchirp/(E**(3/5)))*f)**(1/3))/vlso) - (65/9)*E*(1 + 3*(ln(((pi*(Mchirp/(E**(3/5)))*f)**(1/3))/vlso))))\n",
        "  alpha6 = ( (11583231236531/4694215680) - ((640*(pi**2))/3) - (6848/21)*gamma) + E*((-15335597827/3048192) + (2255*(pi**2))/12 - (1760*theta)/3 + (12320*lamda)/9) + ((76055/1728)*(E**2) - (127825/1296)*(E**3) - (6848/21)*ln(4*((pi*(Mchirp/(E**(3/5)))*f)**(1/3))))\n",
        "  alpha7 = pi*( (77096675/254016) + (378515/1512)*E - (74045/756)*(E**2))\n",
        "\n",
        "  if number == 0:\n",
        "    return alpha0\n",
        "  elif number == 1:\n",
        "    return alpha1\n",
        "  elif number == 2:\n",
        "    return alpha2\n",
        "  elif number == 3:\n",
        "    return alpha3\n",
        "  elif number == 4:\n",
        "    return alpha4\n",
        "  elif number == 5:\n",
        "    return alpha5\n",
        "  elif number == 6:\n",
        "    return alpha6\n",
        "  elif number == 7:\n",
        "    return alpha7\n",
        "  else:\n",
        "    return \"PN out of bounds\"\n",
        "\n",
        "def PN_Summation(pn):\n",
        "  \n",
        "  summationvalue = 0\n",
        "  \n",
        "  for k in range (0, 2*pn-1):\n",
        "    alpha = PNvalue(k)\n",
        "    step = alpha*((pi*((Mchirp/(E**3/5)))*f)**(1/3))**(2*pn)\n",
        "    summationvalue += step\n",
        "  \n",
        "  return summationvalue\n",
        "    \n",
        "PN_Summation(1)\n",
        "\n"
      ],
      "execution_count": 11,
      "outputs": [
        {
          "output_type": "execute_result",
          "data": {
            "text/plain": [
              "6.27210400614069*(Mchirp*f/E**3)**0.666666666666667"
            ]
          },
          "metadata": {
            "tags": []
          },
          "execution_count": 11
        }
      ]
    },
    {
      "cell_type": "code",
      "metadata": {
        "id": "bHMwUn78Ygpr",
        "colab_type": "code",
        "colab": {}
      },
      "source": [
        "# Code that defines the function of h in two ways: the first method simply returns h as a function of\n",
        "# symbols; the second takes in values for the parameters and calculates the outcome. Additionally, a \n",
        "# list of the parameters of function h is defined for later use. \n",
        "\n",
        "varlist = [phic, tc, E, Mchirp]\n",
        "\n",
        "def h_function(pn):\n",
        "  h = A*(f**(-7/6))*(e**(i((2*pi*f*tc - phic - pi/4 + 3/(128*E*(((pi*(Mchirp/(E**3/5))*f)**(1/3))**5))))*(PN_Summation(pn))))\n",
        "  return h\n",
        "\n",
        "def h_function_value(x_phic, x_tc, x_E, x_Mchrip, x_f, pn):\n",
        "  h = A*(f**(-(7/6)))*(2.71828**(i((2*(pi)*f*tc - phic - pi/4 + 3/(128*E*(((pi*(Mchirp/(E**(3/5)))*f)**(1/3))**5)))))*((PN_Summation(pn)))\n",
        "  return h\n"
      ],
      "execution_count": 0,
      "outputs": []
    },
    {
      "cell_type": "code",
      "metadata": {
        "id": "vXdsNZXDY4hB",
        "colab_type": "code",
        "colab": {}
      },
      "source": [
        "# Definition to create empty list and convert it to a matrix.\n",
        "# This was necessary while testing the integration later because the values were too big for a matrix and thus had to be put in a list first. \n",
        "# It may speak for itself that proper values in the list would not require this block of code and could be put directly into a matrix instead.\n",
        "\n",
        "list = []\n",
        "\n",
        "def list_to_matrix(list): \n",
        "  ar = array([[0, 0, 0, 0],\n",
        "       [ 0, 0, 0, 0],\n",
        "       [ 0, 0, 0, 0],\n",
        "       [ 0, 0, 0, 0]])\n",
        "  for j in range(0,3):\n",
        "    for k in range(0,3):\n",
        "      ar[j][k]= list[(j*4+k)]\n",
        "  return ar"
      ],
      "execution_count": 0,
      "outputs": []
    },
    {
      "cell_type": "code",
      "metadata": {
        "id": "YFFQiTJTY9sK",
        "colab_type": "code",
        "colab": {}
      },
      "source": [
        "# Method to integrate a function of f numerically using the composite midpoint method. \n",
        "\n",
        "def integration(min, max, step, function):\n",
        "  integral = 0\n",
        "  for k in arange(min, (max-step), step):\n",
        "    y1 = function.subs({f:k})\n",
        "    y2 = function.subs({f:(k+step)})\n",
        "    mean = (y1+y2)/2\n",
        "    area = mean*step\n",
        "    integral += area\n",
        "  return integral\n",
        "\n",
        "# Demonstration to show that the integration method works:\n",
        "\n",
        "def y(f):\n",
        "  y = 2*f+1\n",
        "  return y\n",
        "\n",
        "testfunction = y(f)\n",
        "print(\"The testfunction looks like:\")\n",
        "print(\"\")\n",
        "print(\"y = \" + str(testfunction))\n",
        "\n",
        "integrated = integration(0, 10, 0.01, testfunction)\n",
        "print(\"The value of the integral between the selected boundaries is:\")\n",
        "print(\"\")\n",
        "print(integrated)\n",
        "\n"
      ],
      "execution_count": 0,
      "outputs": []
    },
    {
      "cell_type": "code",
      "metadata": {
        "id": "oqYm3RQ7cNhv",
        "colab_type": "code",
        "colab": {}
      },
      "source": [
        "# Define PSD of various detectors\n",
        "\n",
        "def PSD_AdvancedLigo(f0, s0):\n",
        "  psd = (s0*((f/f0)**(-4.14)-5*(f/f0)**(-2)+111*(1-(f/f0)**2+((f/f0)**4)/2)/(1+((f/f0)**2)/2)))\n",
        "  return psd"
      ],
      "execution_count": 0,
      "outputs": []
    },
    {
      "cell_type": "code",
      "metadata": {
        "id": "RNpPu3mVclFU",
        "colab_type": "code",
        "colab": {}
      },
      "source": [
        "# Loop that takes the 16 combinations of derivatives and computes the integral of each combination numerically, using the \n",
        "# integration method defined above, which uses the composite midpoint method, and then adds the values to a list. The differentiation\n",
        "# is done using the sympy package. This requires all the variables of a function to be defined as symbols, with respect to \n",
        "# which the integration can be performed algebraically. After the integration the symbols are substituted with their acutal\n",
        "# values and the result is calculated. \n",
        "\n",
        "\n",
        "# Ideally, the list_to_matrix method should be invoked to create a matrix, but due to radiculously high values this \n",
        "# gives an error message as those values are to large for a matrix. I have not found the source of the high results; \n",
        "# when testing the loop on simple functions it seemed to give accurate results. Possibly I have made a mistake in  \n",
        "# rewriting the function in terms of Mchirp and Eta instead of Mtotal. I have tried to check this, but without any success. \n",
        "\n",
        "h = h_function()\n",
        "\n",
        "for j in varlist:\n",
        "  h1diff = h.diff(j)\n",
        "  a = h1diff.subs({phic:value_phic, tc:value_tc, E:value_E, Mchirp:value_Mchirp})\n",
        "  print(\"a\")\n",
        "  print(a)\n",
        "\n",
        "  for k in varlist:\n",
        "    h2diff = h.diff(k)\n",
        "    b = h2diff.subs({phic:value_phic, tc:value_tc, E:value_E, Mchirp:value_Mchirp})\n",
        "    print(\"b\")\n",
        "    print(b)\n",
        "\n",
        "    y = (a*b)/(PSD_AdvancedLigo(215, (10**(-49))))\n",
        "    print(\"y\")\n",
        "    print(y)\n",
        "\n",
        "    subs = y.subs({f:100})\n",
        "    print(\"subs\")\n",
        "    print(subs)\n",
        "\n",
        "    integrated_value = integration(80.0, 120.0, 1, y)\n",
        "    list.append(integrated_value)\n",
        "print(list)"
      ],
      "execution_count": 0,
      "outputs": []
    },
    {
      "cell_type": "code",
      "metadata": {
        "id": "mF56sFQdf6gk",
        "colab_type": "code",
        "colab": {}
      },
      "source": [
        "# Code to invert any matrix. Also computes the dot product of the matrix and its inverse to check whether \n",
        "# the result resembles the unit matrix. The input should be the matrix computed from the previous block,\n",
        "# but since this is not functioning well this block computes a random 4x4 matrix to illustrate how the code\n",
        "# works.\n",
        "\n",
        "def create_4x4_matrix():\n",
        "  m = array([[0, 0, 0, 0],\n",
        "       [ 0, 0, 0, 0],\n",
        "       [ 0, 0, 0, 0],\n",
        "       [ 0, 0, 0, 0]])\n",
        "  for k in range(0, 4):\n",
        "    for j in range(0, 4):\n",
        "      m[k][j] = random.randint(1,26)\n",
        "  return m\n",
        "\n",
        "def invert_matrix(matrix):\n",
        "  print(\"The input matrix looks like this:\")\n",
        "  print(matrix)\n",
        "  print(\"\")\n",
        "\n",
        "  inv_matrix = linalg.inv(matrix)\n",
        "  print(\"The inverted matrix looks as follows:\")\n",
        "  print(inv_matrix)\n",
        "  print(\"\")\n",
        "\n",
        "  unit_matrix = matrix.dot(inv_matrix)\n",
        "  print(\"Check if the dot product is similar to the unit matrix:\")\n",
        "  print(unit_matrix)\n",
        "\n",
        "matrix = create_4x4_matrix()\n",
        "invert_matrix(matrix)"
      ],
      "execution_count": 0,
      "outputs": []
    }
  ]
}