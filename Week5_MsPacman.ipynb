{
  "nbformat": 4,
  "nbformat_minor": 0,
  "metadata": {
    "colab": {
      "name": "Week5_MsPacman",
      "provenance": [],
      "authorship_tag": "ABX9TyPo0UlM5hSFqEuo5A+qRxDG",
      "include_colab_link": true
    },
    "kernelspec": {
      "name": "python3",
      "display_name": "Python 3"
    }
  },
  "cells": [
    {
      "cell_type": "markdown",
      "metadata": {
        "id": "view-in-github",
        "colab_type": "text"
      },
      "source": [
        "<a href=\"https://colab.research.google.com/github/jghcobussen/PRA3024/blob/master/Week5_MsPacman.ipynb\" target=\"_parent\"><img src=\"https://colab.research.google.com/assets/colab-badge.svg\" alt=\"Open In Colab\"/></a>"
      ]
    },
    {
      "cell_type": "markdown",
      "metadata": {
        "id": "FaOmE8yCa6Lb",
        "colab_type": "text"
      },
      "source": [
        "Title: Ms Packman\n",
        "\n",
        "Creator: Joyce Cobussen\n",
        "\n",
        "Student ID: i6170709\n",
        "\n",
        "Information: Throughout the code, several comments starting with 'INFO' explain the workings and/or function of certain aspects of the code. I mainly did this for myself to improve my understanding of the code. This code was taken from the book 'Pyhon reinforcement learning' by Sudharsan Ravichandiran, Sean Saito, Rajalingappaa Shanmugamani and Yang Wenzhuo (2019). Slight adjustments were made. The main purpose of this code was to understand how different parameters influence the speed and effectiveness of the learning process. "
      ]
    },
    {
      "cell_type": "code",
      "metadata": {
        "id": "8aoXvNihYYlX",
        "colab_type": "code",
        "colab": {
          "base_uri": "https://localhost:8080/",
          "height": 62
        },
        "outputId": "28898198-6ab4-4d2d-edd1-5a296b2087f5"
      },
      "source": [
        "import numpy as np\n",
        "import gym\n",
        "import tensorflow as tf\n",
        "from tensorflow.contrib.layers import flatten, conv2d, fully_connected\n",
        "from collections import deque, Counter\n",
        "import random\n",
        "from datetime import datetime"
      ],
      "execution_count": 1,
      "outputs": [
        {
          "output_type": "display_data",
          "data": {
            "text/html": [
              "<p style=\"color: red;\">\n",
              "The default version of TensorFlow in Colab will soon switch to TensorFlow 2.x.<br>\n",
              "We recommend you <a href=\"https://www.tensorflow.org/guide/migrate\" target=\"_blank\">upgrade</a> now \n",
              "or ensure your notebook will continue to use TensorFlow 1.x via the <code>%tensorflow_version 1.x</code> magic:\n",
              "<a href=\"https://colab.research.google.com/notebooks/tensorflow_version.ipynb\" target=\"_blank\">more info</a>.</p>\n"
            ],
            "text/plain": [
              "<IPython.core.display.HTML object>"
            ]
          },
          "metadata": {
            "tags": []
          }
        }
      ]
    },
    {
      "cell_type": "code",
      "metadata": {
        "id": "awlbezPwYfLR",
        "colab_type": "code",
        "colab": {}
      },
      "source": [
        "color = np.array([210, 164, 74]).mean()\n",
        "\n",
        "\n",
        "# Definition to prepare the original input game screen into a cropped, gray-scale version\n",
        "\n",
        "def preprocess_observation(obs):\n",
        "\n",
        "    # Crop and resize the image\n",
        "    img = obs[1:176:2, ::2]\n",
        "\n",
        "    # Convert the image to greyscale\n",
        "    img = img.mean(axis=2)\n",
        "\n",
        "    # Improve image contrast\n",
        "    img[img==color] = 0\n",
        "\n",
        "    # Next we normalize the image from -1 to +1\n",
        "    img = (img - 128) / 128 - 1\n",
        "\n",
        "    return img.reshape(88,80,1)"
      ],
      "execution_count": 0,
      "outputs": []
    },
    {
      "cell_type": "code",
      "metadata": {
        "id": "FMslnzTzYnx3",
        "colab_type": "code",
        "colab": {
          "base_uri": "https://localhost:8080/",
          "height": 302
        },
        "outputId": "f1f6e923-1a04-41f7-d2f5-156cf7012775"
      },
      "source": [
        "# Create the game environment and show the initial game screen, as well as the possible\n",
        "# actions that can be taken\n",
        "\n",
        "env = gym.make(\"MsPacman-v0\")\n",
        "n_outputs = env.action_space.n\n",
        "print(n_outputs)\n",
        "print(env.env.get_action_meanings())\n",
        "\n",
        "# env.reset resets the environment and returns the initial observation\n",
        "observation = env.reset()\n",
        "\n",
        "import tensorflow as tf\n",
        "import matplotlib.pyplot as plt\n",
        "\n",
        "for i in range(22):\n",
        "  if i > 20:\n",
        "    plt.imshow(observation)\n",
        "    plt.show()\n",
        "  observation, _, _, _ = env.step(1)"
      ],
      "execution_count": 3,
      "outputs": [
        {
          "output_type": "stream",
          "text": [
            "9\n",
            "['NOOP', 'UP', 'RIGHT', 'LEFT', 'DOWN', 'UPRIGHT', 'UPLEFT', 'DOWNRIGHT', 'DOWNLEFT']\n"
          ],
          "name": "stdout"
        },
        {
          "output_type": "display_data",
          "data": {
            "image/png": "[encoded data removed]",
            "text/plain": [
              "<Figure size 432x288 with 1 Axes>"
            ]
          },
          "metadata": {
            "tags": []
          }
        }
      ]
    },
    {
      "cell_type": "code",
      "metadata": {
        "id": "Cnn1Xo1LYs5D",
        "colab_type": "code",
        "colab": {
          "base_uri": "https://localhost:8080/",
          "height": 302
        },
        "outputId": "6556d6b5-d70b-488d-ce2d-de9081b329c2"
      },
      "source": [
        "# Printing the preprocessed game screen to check that it is a cropped and gray-scale image \n",
        "# compared to the original gamescreen.\n",
        "\n",
        "# Printing the original and preprocessed tensors to check that it goes from 3D to 2D\n",
        "\n",
        "obs_preprocessed = preprocess_observation(observation).reshape(88,80)\n",
        "plt.imshow(obs_preprocessed)\n",
        "plt.show()\n",
        "print(observation.shape)\n",
        "print(obs_preprocessed.shape)"
      ],
      "execution_count": 4,
      "outputs": [
        {
          "output_type": "display_data",
          "data": {
            "image/png": "[encoded data removed]",
            "text/plain": [
              "<Figure size 432x288 with 1 Axes>"
            ]
          },
          "metadata": {
            "tags": []
          }
        },
        {
          "output_type": "stream",
          "text": [
            "(210, 160, 3)\n",
            "(88, 80)\n"
          ],
          "name": "stdout"
        }
      ]
    },
    {
      "cell_type": "code",
      "metadata": {
        "id": "oyVuMYO9Y1A6",
        "colab_type": "code",
        "colab": {}
      },
      "source": [
        "tf.compat.v1.reset_default_graph()\n",
        "\n",
        "def q_network(X, name_scope):\n",
        "    \n",
        "    # Initialize layers\n",
        "    initializer = tf.compat.v1.keras.initializers.VarianceScaling(scale=2.0)\n",
        "\n",
        "    with tf.compat.v1.variable_scope(name_scope) as scope: \n",
        "\n",
        "      # INFO: stride regulates how many steps a convolutional layer moves. A larger stride reduces the computational\n",
        "      # load in return for a certain loss of data. Since we want to start with recognizing general features and go\n",
        "      # into more detail later, the stride size decreases with each convolutional layer.\n",
        "\n",
        "      # INFO: kernal size dictates how big the filter is that moves over the image. I choose to start off with a \n",
        "      # relatively large filter to look for major patterns and end with a smaller one, which is more sensitive to \n",
        "      # smaller patterns. This way, I hope to increase the learning ability of the network while reducing computing\n",
        "      # time and lower the chance of overtraining it. \n",
        "\n",
        "        # Add 3 convolutional layers \n",
        "        layer_1 = conv2d(X, num_outputs=32, kernel_size=(8,8), stride=4, padding='SAME', weights_initializer=initializer) \n",
        "        tf.compat.v1.summary.histogram('layer_1',layer_1)\n",
        "        \n",
        "        layer_2 = conv2d(layer_1, num_outputs=64, kernel_size=(4,4), stride=2, padding='SAME', weights_initializer=initializer)\n",
        "        tf.compat.v1.summary.histogram('layer_2',layer_2)\n",
        "        \n",
        "        layer_3 = conv2d(layer_2, num_outputs=64, kernel_size=(2,2), stride=1, padding='SAME', weights_initializer=initializer)\n",
        "        tf.compat.v1.summary.histogram('layer_3',layer_3)\n",
        "        \n",
        "        # Flatten the result of layer_3 before feeding to the fully connected layer\n",
        "        flat = flatten(layer_3)\n",
        "        \n",
        "        # Insert a fully connected layer\n",
        "        fc = fully_connected(flat, num_outputs=128, weights_initializer=initializer)\n",
        "        tf.compat.v1.summary.histogram('fc',fc)\n",
        "        \n",
        "        #Add final output layer that has the same number of outputs as there are actions to take, 9 in our case\n",
        "        output = fully_connected(fc, num_outputs=n_outputs, activation_fn=None, weights_initializer=initializer)\n",
        "        tf.compat.v1.summary.histogram('output',output)\n",
        "        \n",
        "        # Vars will store the parameters of the network such as weights\n",
        "        vars = {v.name[len(scope.name):]: v for v in tf.compat.v1.get_collection(key=tf.compat.v1.GraphKeys.TRAINABLE_VARIABLES, scope=scope.name)} \n",
        "        #Return both variables and outputs together\n",
        "        return vars, output"
      ],
      "execution_count": 0,
      "outputs": []
    },
    {
      "cell_type": "code",
      "metadata": {
        "id": "9fQ6i9nnY57q",
        "colab_type": "code",
        "colab": {}
      },
      "source": [
        "# INFO: Define a function that selects the action with the highest reward with a probability of (1-epsilon), or a random action\n",
        "# with probability epsilon. At the start we would like the AI to explore, so make epsilon large in the beginning. As time\n",
        "# passes, we would like the AI to rely on what it has learned more and more, so we make epsilon decrease by a certain \n",
        "# amount each step. \n",
        "\n",
        "epsilon = 0.5\n",
        "eps_min = 0.05\n",
        "eps_max = 1.0\n",
        "eps_decay_steps = 500000\n",
        "\n",
        "#\n",
        "def epsilon_greedy(action, step):\n",
        "    p = np.random.random(1).squeeze() #1D entries returned using squeeze\n",
        "    epsilon = max(eps_min, eps_max - (eps_max-eps_min) * step/eps_decay_steps) #Decaying policy with more steps\n",
        "    if np.random.rand() < epsilon:\n",
        "        return np.random.randint(n_outputs)\n",
        "    else:\n",
        "        return action\n"
      ],
      "execution_count": 0,
      "outputs": []
    },
    {
      "cell_type": "code",
      "metadata": {
        "id": "l0P3A1rNY-lF",
        "colab_type": "code",
        "colab": {}
      },
      "source": [
        "buffer_len = 20000\n",
        "#Buffer is made from a deque - double ended queue\n",
        "exp_buffer = deque(maxlen=buffer_len)"
      ],
      "execution_count": 0,
      "outputs": []
    },
    {
      "cell_type": "code",
      "metadata": {
        "id": "U0CyfAWGZBNS",
        "colab_type": "code",
        "colab": {}
      },
      "source": [
        "def sample_memories(batch_size):\n",
        "    perm_batch = np.random.permutation(len(exp_buffer))[:batch_size]\n",
        "    mem = np.array(exp_buffer)[perm_batch]\n",
        "    return mem[:,0], mem[:,1], mem[:,2], mem[:,3], mem[:,4]"
      ],
      "execution_count": 0,
      "outputs": []
    },
    {
      "cell_type": "code",
      "metadata": {
        "id": "XlTpHChIZHR_",
        "colab_type": "code",
        "colab": {}
      },
      "source": [
        "# The AI needs relatively many episodes to show some improvement. Due to time constraints\n",
        "# I put 400, but it will probably need at least 1000 to converge and perhaps even more.\n",
        "num_episodes = 400\n",
        "batch_size = 48\n",
        "input_shape = (None, 88, 80, 1)\n",
        "#Recall shape is img.reshape(88,80,1)\n",
        "learning_rate = 0.001\n",
        "X_shape = (None, 88, 80, 1)\n",
        "discount_factor = 0.97\n",
        "\n",
        "global_step = 0\n",
        "copy_steps = 100\n",
        "steps_train = 4\n",
        "start_steps = 2000\n"
      ],
      "execution_count": 0,
      "outputs": []
    },
    {
      "cell_type": "code",
      "metadata": {
        "id": "xrOlgoe2ZKj_",
        "colab_type": "code",
        "colab": {}
      },
      "source": [
        "logdir = 'logs'\n",
        "tf.compat.v1.reset_default_graph()\n",
        "\n",
        "# Now we define the placeholder for our input i.e game state\n",
        "X = tf.compat.v1.placeholder(tf.float32, shape=X_shape)\n",
        "\n",
        "# we define a boolean called in_training_model to toggle the training\n",
        "in_training_mode = tf.compat.v1.placeholder(tf.bool)"
      ],
      "execution_count": 0,
      "outputs": []
    },
    {
      "cell_type": "code",
      "metadata": {
        "id": "gtiH3luoZNck",
        "colab_type": "code",
        "colab": {
          "base_uri": "https://localhost:8080/",
          "height": 137
        },
        "outputId": "778dd9f2-1b15-4cdc-8b4f-d950028d4d3a"
      },
      "source": [
        "\n",
        "# This builds the Q network, which takes the input X and generates Q values for all the actions in the state\n",
        "mainQ, mainQ_outputs = q_network(X, 'mainQ')\n",
        "\n",
        "# Similarly, the line below builds the target Q network\n",
        "targetQ, targetQ_outputs = q_network(X, 'targetQ')"
      ],
      "execution_count": 11,
      "outputs": [
        {
          "output_type": "stream",
          "text": [
            "WARNING:tensorflow:From /tensorflow-1.15.0/python3.6/tensorflow_core/contrib/layers/python/layers/layers.py:1057: Layer.apply (from tensorflow.python.keras.engine.base_layer) is deprecated and will be removed in a future version.\n",
            "Instructions for updating:\n",
            "Please use `layer.__call__` method instead.\n",
            "WARNING:tensorflow:From /tensorflow-1.15.0/python3.6/tensorflow_core/contrib/layers/python/layers/layers.py:1634: flatten (from tensorflow.python.layers.core) is deprecated and will be removed in a future version.\n",
            "Instructions for updating:\n",
            "Use keras.layers.flatten instead.\n"
          ],
          "name": "stdout"
        }
      ]
    },
    {
      "cell_type": "code",
      "metadata": {
        "id": "hwKAIsa3ZQAp",
        "colab_type": "code",
        "colab": {}
      },
      "source": [
        "# Define the placeholder for our action values\n",
        "\n",
        "X_action = tf.compat.v1.placeholder(tf.int32, shape=(None,))\n",
        "Q_action = tf.reduce_sum(input_tensor=targetQ_outputs * tf.one_hot(X_action, n_outputs), axis=-1, keepdims=True)"
      ],
      "execution_count": 0,
      "outputs": []
    },
    {
      "cell_type": "code",
      "metadata": {
        "id": "z1KznJ09ZSfA",
        "colab_type": "code",
        "colab": {}
      },
      "source": [
        "copy_op = [tf.compat.v1.assign(main_name, targetQ[var_name]) for var_name, main_name in mainQ.items()]\n",
        "copy_target_to_main = tf.group(*copy_op)"
      ],
      "execution_count": 0,
      "outputs": []
    },
    {
      "cell_type": "code",
      "metadata": {
        "id": "AXP6ir9rZUvB",
        "colab_type": "code",
        "colab": {}
      },
      "source": [
        "# Define a placeholder for our output i.e action\n",
        "y = tf.compat.v1.placeholder(tf.float32, shape=(None,1))\n",
        "\n",
        "# now we calculate the loss which is the difference between actual value and predicted value\n",
        "loss = tf.reduce_mean(input_tensor=tf.square(y - Q_action))\n",
        "\n",
        "# we use adam optimizer for minimizing the loss\n",
        "optimizer = tf.compat.v1.train.AdamOptimizer(learning_rate)\n",
        "training_op = optimizer.minimize(loss)\n",
        "\n",
        "init = tf.compat.v1.global_variables_initializer()\n",
        "\n",
        "loss_summary = tf.compat.v1.summary.scalar('LOSS', loss)\n",
        "merge_summary = tf.compat.v1.summary.merge_all()\n",
        "file_writer = tf.compat.v1.summary.FileWriter(logdir, tf.compat.v1.get_default_graph())"
      ],
      "execution_count": 0,
      "outputs": []
    },
    {
      "cell_type": "code",
      "metadata": {
        "id": "cvvFhQY1Z0g1",
        "colab_type": "code",
        "colab": {
          "base_uri": "https://localhost:8080/",
          "height": 1000
        },
        "outputId": "2fb43526-4dc6-4254-b207-7fa9028a11b8"
      },
      "source": [
        "with tf.compat.v1.Session() as sess:\n",
        "    init.run()\n",
        "    \n",
        "    # for each episode\n",
        "    history = []\n",
        "    for i in range(num_episodes):\n",
        "        done = False\n",
        "        obs = env.reset()\n",
        "        epoch = 0\n",
        "        episodic_reward = 0\n",
        "        actions_counter = Counter() \n",
        "        episodic_loss = []\n",
        "\n",
        "        # while the state is not the terminal state\n",
        "        while not done:\n",
        "\n",
        "           #env.render()\n",
        "        \n",
        "            # get the preprocessed game screen\n",
        "            obs = preprocess_observation(obs)\n",
        "\n",
        "            # feed the game screen and get the Q values for each action,  FEED THE NETWORK BY CALLING THE OUTPUT LAYER\n",
        "            \n",
        "            actions = mainQ_outputs.eval(feed_dict={X:[obs], in_training_mode:False})\n",
        "\n",
        "            # get the action\n",
        "            action = np.argmax(actions, axis=-1)\n",
        "            actions_counter[str(action)] += 1 \n",
        "\n",
        "            # select the action using epsilon greedy policy\n",
        "            action = epsilon_greedy(action, global_step)\n",
        "            \n",
        "            # now perform the action and move to the next state, next_obs, receive reward\n",
        "            next_obs, reward, done, _ = env.step(action)\n",
        "\n",
        "            # Store this transistion as an experience in the replay buffer! Quite important\n",
        "            exp_buffer.append([obs, action, preprocess_observation(next_obs), reward, done])\n",
        "\n",
        "                        # After certain steps, we train our Q network with samples from the experience replay buffer\n",
        "            if global_step % steps_train == 0 and global_step > start_steps:\n",
        "                \n",
        "                # sample experience, mem[:,0], mem[:,1], mem[:,2], mem[:,3], mem[:,4]\n",
        "                o_obs, o_act, o_next_obs, o_rew, o_done = sample_memories(batch_size)\n",
        "\n",
        "                # states\n",
        "                o_obs = [x for x in o_obs]\n",
        "\n",
        "                # next states\n",
        "                o_next_obs = [x for x in o_next_obs]\n",
        "\n",
        "                # next actions\n",
        "                next_act = mainQ_outputs.eval(feed_dict={X:o_next_obs, in_training_mode:False})\n",
        "\n",
        "\n",
        "                # discounted reward: these are our Y-values\n",
        "                y_batch = o_rew + discount_factor * np.max(next_act, axis=-1) * (1-o_done) \n",
        "\n",
        "                # merge all summaries and write to the file\n",
        "                mrg_summary = merge_summary.eval(feed_dict={X:o_obs, y:np.expand_dims(y_batch, axis=-1), X_action:o_act, in_training_mode:False})\n",
        "                file_writer.add_summary(mrg_summary, global_step)\n",
        "\n",
        "                # To calculate the loss, we run the previously defined functions mentioned while feeding inputs\n",
        "                train_loss, _ = sess.run([loss, training_op], feed_dict={X:o_obs, y:np.expand_dims(y_batch, axis=-1), X_action:o_act, in_training_mode:True})\n",
        "                episodic_loss.append(train_loss)\n",
        "            \n",
        "            # after some interval we copy our main Q network weights to target Q network\n",
        "            if (global_step+1) % copy_steps == 0 and global_step > start_steps:\n",
        "                copy_target_to_main.run()\n",
        "                \n",
        "            obs = next_obs\n",
        "            epoch += 1\n",
        "            global_step += 1\n",
        "            episodic_reward += reward\n",
        "        \n",
        "        history.append(episodic_reward)\n",
        "        print('Epochs per episode:', epoch, 'Episode Reward:', episodic_reward,\"Episode number:\", len(history))"
      ],
      "execution_count": 15,
      "outputs": [
        {
          "output_type": "stream",
          "text": [
            "Epochs per episode: 688 Episode Reward: 310.0 Episode number: 1\n",
            "Epochs per episode: 547 Episode Reward: 170.0 Episode number: 2\n",
            "Epochs per episode: 578 Episode Reward: 190.0 Episode number: 3\n",
            "Epochs per episode: 584 Episode Reward: 200.0 Episode number: 4\n",
            "Epochs per episode: 859 Episode Reward: 460.0 Episode number: 5\n",
            "Epochs per episode: 549 Episode Reward: 100.0 Episode number: 6\n",
            "Epochs per episode: 640 Episode Reward: 270.0 Episode number: 7\n",
            "Epochs per episode: 547 Episode Reward: 130.0 Episode number: 8\n",
            "Epochs per episode: 670 Episode Reward: 190.0 Episode number: 9\n",
            "Epochs per episode: 616 Episode Reward: 180.0 Episode number: 10\n",
            "Epochs per episode: 916 Episode Reward: 320.0 Episode number: 11\n",
            "Epochs per episode: 544 Episode Reward: 140.0 Episode number: 12\n",
            "Epochs per episode: 627 Episode Reward: 210.0 Episode number: 13\n",
            "Epochs per episode: 753 Episode Reward: 200.0 Episode number: 14\n",
            "Epochs per episode: 668 Episode Reward: 220.0 Episode number: 15\n",
            "Epochs per episode: 645 Episode Reward: 170.0 Episode number: 16\n",
            "Epochs per episode: 980 Episode Reward: 330.0 Episode number: 17\n",
            "Epochs per episode: 657 Episode Reward: 190.0 Episode number: 18\n",
            "Epochs per episode: 627 Episode Reward: 190.0 Episode number: 19\n",
            "Epochs per episode: 722 Episode Reward: 240.0 Episode number: 20\n",
            "Epochs per episode: 634 Episode Reward: 280.0 Episode number: 21\n",
            "Epochs per episode: 697 Episode Reward: 270.0 Episode number: 22\n",
            "Epochs per episode: 586 Episode Reward: 150.0 Episode number: 23\n",
            "Epochs per episode: 512 Episode Reward: 260.0 Episode number: 24\n",
            "Epochs per episode: 674 Episode Reward: 210.0 Episode number: 25\n",
            "Epochs per episode: 584 Episode Reward: 210.0 Episode number: 26\n",
            "Epochs per episode: 695 Episode Reward: 160.0 Episode number: 27\n",
            "Epochs per episode: 545 Episode Reward: 120.0 Episode number: 28\n",
            "Epochs per episode: 674 Episode Reward: 280.0 Episode number: 29\n",
            "Epochs per episode: 623 Episode Reward: 260.0 Episode number: 30\n",
            "Epochs per episode: 714 Episode Reward: 220.0 Episode number: 31\n",
            "Epochs per episode: 574 Episode Reward: 140.0 Episode number: 32\n",
            "Epochs per episode: 675 Episode Reward: 120.0 Episode number: 33\n",
            "Epochs per episode: 625 Episode Reward: 280.0 Episode number: 34\n",
            "Epochs per episode: 602 Episode Reward: 190.0 Episode number: 35\n",
            "Epochs per episode: 657 Episode Reward: 190.0 Episode number: 36\n",
            "Epochs per episode: 580 Episode Reward: 210.0 Episode number: 37\n",
            "Epochs per episode: 433 Episode Reward: 160.0 Episode number: 38\n",
            "Epochs per episode: 729 Episode Reward: 240.0 Episode number: 39\n",
            "Epochs per episode: 692 Episode Reward: 230.0 Episode number: 40\n",
            "Epochs per episode: 508 Episode Reward: 200.0 Episode number: 41\n",
            "Epochs per episode: 537 Episode Reward: 200.0 Episode number: 42\n",
            "Epochs per episode: 651 Episode Reward: 220.0 Episode number: 43\n",
            "Epochs per episode: 613 Episode Reward: 160.0 Episode number: 44\n",
            "Epochs per episode: 604 Episode Reward: 160.0 Episode number: 45\n",
            "Epochs per episode: 642 Episode Reward: 270.0 Episode number: 46\n",
            "Epochs per episode: 423 Episode Reward: 110.0 Episode number: 47\n",
            "Epochs per episode: 651 Episode Reward: 230.0 Episode number: 48\n",
            "Epochs per episode: 552 Episode Reward: 170.0 Episode number: 49\n",
            "Epochs per episode: 500 Episode Reward: 140.0 Episode number: 50\n",
            "Epochs per episode: 619 Episode Reward: 190.0 Episode number: 51\n",
            "Epochs per episode: 506 Episode Reward: 110.0 Episode number: 52\n",
            "Epochs per episode: 950 Episode Reward: 370.0 Episode number: 53\n",
            "Epochs per episode: 668 Episode Reward: 280.0 Episode number: 54\n",
            "Epochs per episode: 643 Episode Reward: 300.0 Episode number: 55\n",
            "Epochs per episode: 555 Episode Reward: 270.0 Episode number: 56\n",
            "Epochs per episode: 925 Episode Reward: 370.0 Episode number: 57\n",
            "Epochs per episode: 721 Episode Reward: 200.0 Episode number: 58\n",
            "Epochs per episode: 668 Episode Reward: 220.0 Episode number: 59\n",
            "Epochs per episode: 671 Episode Reward: 230.0 Episode number: 60\n",
            "Epochs per episode: 569 Episode Reward: 240.0 Episode number: 61\n",
            "Epochs per episode: 598 Episode Reward: 170.0 Episode number: 62\n",
            "Epochs per episode: 644 Episode Reward: 180.0 Episode number: 63\n",
            "Epochs per episode: 645 Episode Reward: 230.0 Episode number: 64\n",
            "Epochs per episode: 628 Episode Reward: 200.0 Episode number: 65\n",
            "Epochs per episode: 620 Episode Reward: 220.0 Episode number: 66\n",
            "Epochs per episode: 724 Episode Reward: 270.0 Episode number: 67\n",
            "Epochs per episode: 680 Episode Reward: 230.0 Episode number: 68\n",
            "Epochs per episode: 485 Episode Reward: 110.0 Episode number: 69\n",
            "Epochs per episode: 711 Episode Reward: 210.0 Episode number: 70\n",
            "Epochs per episode: 530 Episode Reward: 210.0 Episode number: 71\n",
            "Epochs per episode: 830 Episode Reward: 440.0 Episode number: 72\n",
            "Epochs per episode: 642 Episode Reward: 270.0 Episode number: 73\n",
            "Epochs per episode: 693 Episode Reward: 320.0 Episode number: 74\n",
            "Epochs per episode: 709 Episode Reward: 190.0 Episode number: 75\n",
            "Epochs per episode: 563 Episode Reward: 180.0 Episode number: 76\n",
            "Epochs per episode: 708 Episode Reward: 350.0 Episode number: 77\n",
            "Epochs per episode: 719 Episode Reward: 370.0 Episode number: 78\n",
            "Epochs per episode: 632 Episode Reward: 280.0 Episode number: 79\n",
            "Epochs per episode: 705 Episode Reward: 350.0 Episode number: 80\n",
            "Epochs per episode: 688 Episode Reward: 230.0 Episode number: 81\n",
            "Epochs per episode: 617 Episode Reward: 190.0 Episode number: 82\n",
            "Epochs per episode: 832 Episode Reward: 250.0 Episode number: 83\n",
            "Epochs per episode: 536 Episode Reward: 150.0 Episode number: 84\n",
            "Epochs per episode: 599 Episode Reward: 140.0 Episode number: 85\n",
            "Epochs per episode: 561 Episode Reward: 250.0 Episode number: 86\n",
            "Epochs per episode: 715 Episode Reward: 300.0 Episode number: 87\n",
            "Epochs per episode: 681 Episode Reward: 350.0 Episode number: 88\n",
            "Epochs per episode: 643 Episode Reward: 340.0 Episode number: 89\n",
            "Epochs per episode: 643 Episode Reward: 240.0 Episode number: 90\n",
            "Epochs per episode: 656 Episode Reward: 160.0 Episode number: 91\n",
            "Epochs per episode: 530 Episode Reward: 140.0 Episode number: 92\n",
            "Epochs per episode: 515 Episode Reward: 180.0 Episode number: 93\n",
            "Epochs per episode: 590 Episode Reward: 210.0 Episode number: 94\n",
            "Epochs per episode: 657 Episode Reward: 230.0 Episode number: 95\n",
            "Epochs per episode: 496 Episode Reward: 150.0 Episode number: 96\n",
            "Epochs per episode: 673 Episode Reward: 200.0 Episode number: 97\n",
            "Epochs per episode: 511 Episode Reward: 150.0 Episode number: 98\n",
            "Epochs per episode: 631 Episode Reward: 200.0 Episode number: 99\n",
            "Epochs per episode: 589 Episode Reward: 240.0 Episode number: 100\n",
            "Epochs per episode: 708 Episode Reward: 240.0 Episode number: 101\n",
            "Epochs per episode: 854 Episode Reward: 280.0 Episode number: 102\n",
            "Epochs per episode: 676 Episode Reward: 150.0 Episode number: 103\n",
            "Epochs per episode: 551 Episode Reward: 300.0 Episode number: 104\n",
            "Epochs per episode: 597 Episode Reward: 180.0 Episode number: 105\n",
            "Epochs per episode: 545 Episode Reward: 210.0 Episode number: 106\n",
            "Epochs per episode: 599 Episode Reward: 300.0 Episode number: 107\n",
            "Epochs per episode: 696 Episode Reward: 200.0 Episode number: 108\n",
            "Epochs per episode: 514 Episode Reward: 150.0 Episode number: 109\n",
            "Epochs per episode: 1000 Episode Reward: 590.0 Episode number: 110\n",
            "Epochs per episode: 576 Episode Reward: 220.0 Episode number: 111\n",
            "Epochs per episode: 568 Episode Reward: 180.0 Episode number: 112\n",
            "Epochs per episode: 758 Episode Reward: 280.0 Episode number: 113\n",
            "Epochs per episode: 627 Episode Reward: 240.0 Episode number: 114\n",
            "Epochs per episode: 710 Episode Reward: 240.0 Episode number: 115\n",
            "Epochs per episode: 700 Episode Reward: 310.0 Episode number: 116\n",
            "Epochs per episode: 755 Episode Reward: 230.0 Episode number: 117\n",
            "Epochs per episode: 485 Episode Reward: 160.0 Episode number: 118\n",
            "Epochs per episode: 718 Episode Reward: 290.0 Episode number: 119\n",
            "Epochs per episode: 564 Episode Reward: 120.0 Episode number: 120\n",
            "Epochs per episode: 585 Episode Reward: 220.0 Episode number: 121\n",
            "Epochs per episode: 783 Episode Reward: 260.0 Episode number: 122\n",
            "Epochs per episode: 623 Episode Reward: 240.0 Episode number: 123\n",
            "Epochs per episode: 686 Episode Reward: 340.0 Episode number: 124\n",
            "Epochs per episode: 778 Episode Reward: 480.0 Episode number: 125\n",
            "Epochs per episode: 669 Episode Reward: 240.0 Episode number: 126\n",
            "Epochs per episode: 672 Episode Reward: 270.0 Episode number: 127\n",
            "Epochs per episode: 518 Episode Reward: 150.0 Episode number: 128\n",
            "Epochs per episode: 661 Episode Reward: 170.0 Episode number: 129\n",
            "Epochs per episode: 847 Episode Reward: 440.0 Episode number: 130\n",
            "Epochs per episode: 517 Episode Reward: 150.0 Episode number: 131\n",
            "Epochs per episode: 595 Episode Reward: 190.0 Episode number: 132\n",
            "Epochs per episode: 581 Episode Reward: 210.0 Episode number: 133\n",
            "Epochs per episode: 648 Episode Reward: 180.0 Episode number: 134\n",
            "Epochs per episode: 628 Episode Reward: 260.0 Episode number: 135\n",
            "Epochs per episode: 711 Episode Reward: 300.0 Episode number: 136\n",
            "Epochs per episode: 670 Episode Reward: 270.0 Episode number: 137\n",
            "Epochs per episode: 541 Episode Reward: 210.0 Episode number: 138\n",
            "Epochs per episode: 626 Episode Reward: 190.0 Episode number: 139\n",
            "Epochs per episode: 760 Episode Reward: 360.0 Episode number: 140\n",
            "Epochs per episode: 732 Episode Reward: 370.0 Episode number: 141\n",
            "Epochs per episode: 780 Episode Reward: 270.0 Episode number: 142\n",
            "Epochs per episode: 566 Episode Reward: 250.0 Episode number: 143\n",
            "Epochs per episode: 570 Episode Reward: 190.0 Episode number: 144\n",
            "Epochs per episode: 885 Episode Reward: 470.0 Episode number: 145\n",
            "Epochs per episode: 938 Episode Reward: 1170.0 Episode number: 146\n",
            "Epochs per episode: 1197 Episode Reward: 350.0 Episode number: 147\n",
            "Epochs per episode: 531 Episode Reward: 150.0 Episode number: 148\n",
            "Epochs per episode: 476 Episode Reward: 190.0 Episode number: 149\n",
            "Epochs per episode: 733 Episode Reward: 310.0 Episode number: 150\n",
            "Epochs per episode: 691 Episode Reward: 340.0 Episode number: 151\n",
            "Epochs per episode: 634 Episode Reward: 230.0 Episode number: 152\n",
            "Epochs per episode: 635 Episode Reward: 360.0 Episode number: 153\n",
            "Epochs per episode: 605 Episode Reward: 160.0 Episode number: 154\n",
            "Epochs per episode: 599 Episode Reward: 210.0 Episode number: 155\n",
            "Epochs per episode: 692 Episode Reward: 300.0 Episode number: 156\n",
            "Epochs per episode: 656 Episode Reward: 270.0 Episode number: 157\n",
            "Epochs per episode: 683 Episode Reward: 200.0 Episode number: 158\n",
            "Epochs per episode: 738 Episode Reward: 190.0 Episode number: 159\n",
            "Epochs per episode: 748 Episode Reward: 190.0 Episode number: 160\n",
            "Epochs per episode: 678 Episode Reward: 240.0 Episode number: 161\n",
            "Epochs per episode: 681 Episode Reward: 280.0 Episode number: 162\n",
            "Epochs per episode: 600 Episode Reward: 270.0 Episode number: 163\n",
            "Epochs per episode: 560 Episode Reward: 190.0 Episode number: 164\n",
            "Epochs per episode: 762 Episode Reward: 420.0 Episode number: 165\n",
            "Epochs per episode: 764 Episode Reward: 230.0 Episode number: 166\n",
            "Epochs per episode: 752 Episode Reward: 270.0 Episode number: 167\n",
            "Epochs per episode: 597 Episode Reward: 160.0 Episode number: 168\n",
            "Epochs per episode: 687 Episode Reward: 210.0 Episode number: 169\n",
            "Epochs per episode: 788 Episode Reward: 310.0 Episode number: 170\n",
            "Epochs per episode: 768 Episode Reward: 260.0 Episode number: 171\n",
            "Epochs per episode: 650 Episode Reward: 270.0 Episode number: 172\n",
            "Epochs per episode: 587 Episode Reward: 230.0 Episode number: 173\n",
            "Epochs per episode: 623 Episode Reward: 220.0 Episode number: 174\n",
            "Epochs per episode: 704 Episode Reward: 280.0 Episode number: 175\n",
            "Epochs per episode: 592 Episode Reward: 270.0 Episode number: 176\n",
            "Epochs per episode: 630 Episode Reward: 190.0 Episode number: 177\n",
            "Epochs per episode: 461 Episode Reward: 210.0 Episode number: 178\n",
            "Epochs per episode: 429 Episode Reward: 170.0 Episode number: 179\n",
            "Epochs per episode: 653 Episode Reward: 260.0 Episode number: 180\n",
            "Epochs per episode: 754 Episode Reward: 430.0 Episode number: 181\n",
            "Epochs per episode: 622 Episode Reward: 210.0 Episode number: 182\n",
            "Epochs per episode: 824 Episode Reward: 410.0 Episode number: 183\n",
            "Epochs per episode: 606 Episode Reward: 270.0 Episode number: 184\n",
            "Epochs per episode: 617 Episode Reward: 240.0 Episode number: 185\n",
            "Epochs per episode: 647 Episode Reward: 360.0 Episode number: 186\n",
            "Epochs per episode: 669 Episode Reward: 330.0 Episode number: 187\n",
            "Epochs per episode: 904 Episode Reward: 410.0 Episode number: 188\n",
            "Epochs per episode: 875 Episode Reward: 330.0 Episode number: 189\n",
            "Epochs per episode: 680 Episode Reward: 320.0 Episode number: 190\n",
            "Epochs per episode: 651 Episode Reward: 280.0 Episode number: 191\n",
            "Epochs per episode: 726 Episode Reward: 230.0 Episode number: 192\n",
            "Epochs per episode: 576 Episode Reward: 250.0 Episode number: 193\n",
            "Epochs per episode: 702 Episode Reward: 250.0 Episode number: 194\n",
            "Epochs per episode: 688 Episode Reward: 280.0 Episode number: 195\n",
            "Epochs per episode: 541 Episode Reward: 280.0 Episode number: 196\n",
            "Epochs per episode: 660 Episode Reward: 280.0 Episode number: 197\n",
            "Epochs per episode: 628 Episode Reward: 320.0 Episode number: 198\n",
            "Epochs per episode: 591 Episode Reward: 220.0 Episode number: 199\n",
            "Epochs per episode: 543 Episode Reward: 230.0 Episode number: 200\n",
            "Epochs per episode: 742 Episode Reward: 330.0 Episode number: 201\n",
            "Epochs per episode: 689 Episode Reward: 270.0 Episode number: 202\n",
            "Epochs per episode: 662 Episode Reward: 250.0 Episode number: 203\n",
            "Epochs per episode: 692 Episode Reward: 240.0 Episode number: 204\n",
            "Epochs per episode: 713 Episode Reward: 250.0 Episode number: 205\n",
            "Epochs per episode: 608 Episode Reward: 290.0 Episode number: 206\n",
            "Epochs per episode: 702 Episode Reward: 210.0 Episode number: 207\n",
            "Epochs per episode: 785 Episode Reward: 390.0 Episode number: 208\n",
            "Epochs per episode: 668 Episode Reward: 230.0 Episode number: 209\n",
            "Epochs per episode: 605 Episode Reward: 160.0 Episode number: 210\n",
            "Epochs per episode: 782 Episode Reward: 300.0 Episode number: 211\n",
            "Epochs per episode: 581 Episode Reward: 200.0 Episode number: 212\n",
            "Epochs per episode: 912 Episode Reward: 480.0 Episode number: 213\n",
            "Epochs per episode: 552 Episode Reward: 300.0 Episode number: 214\n",
            "Epochs per episode: 663 Episode Reward: 250.0 Episode number: 215\n",
            "Epochs per episode: 696 Episode Reward: 230.0 Episode number: 216\n",
            "Epochs per episode: 684 Episode Reward: 300.0 Episode number: 217\n",
            "Epochs per episode: 898 Episode Reward: 570.0 Episode number: 218\n",
            "Epochs per episode: 530 Episode Reward: 180.0 Episode number: 219\n",
            "Epochs per episode: 633 Episode Reward: 320.0 Episode number: 220\n",
            "Epochs per episode: 1010 Episode Reward: 640.0 Episode number: 221\n",
            "Epochs per episode: 623 Episode Reward: 230.0 Episode number: 222\n",
            "Epochs per episode: 610 Episode Reward: 260.0 Episode number: 223\n",
            "Epochs per episode: 785 Episode Reward: 350.0 Episode number: 224\n",
            "Epochs per episode: 606 Episode Reward: 250.0 Episode number: 225\n",
            "Epochs per episode: 870 Episode Reward: 710.0 Episode number: 226\n",
            "Epochs per episode: 849 Episode Reward: 470.0 Episode number: 227\n",
            "Epochs per episode: 639 Episode Reward: 420.0 Episode number: 228\n",
            "Epochs per episode: 622 Episode Reward: 200.0 Episode number: 229\n",
            "Epochs per episode: 692 Episode Reward: 310.0 Episode number: 230\n",
            "Epochs per episode: 574 Episode Reward: 330.0 Episode number: 231\n",
            "Epochs per episode: 1136 Episode Reward: 500.0 Episode number: 232\n",
            "Epochs per episode: 681 Episode Reward: 300.0 Episode number: 233\n",
            "Epochs per episode: 677 Episode Reward: 220.0 Episode number: 234\n",
            "Epochs per episode: 548 Episode Reward: 160.0 Episode number: 235\n",
            "Epochs per episode: 626 Episode Reward: 240.0 Episode number: 236\n",
            "Epochs per episode: 633 Episode Reward: 300.0 Episode number: 237\n",
            "Epochs per episode: 969 Episode Reward: 1150.0 Episode number: 238\n",
            "Epochs per episode: 668 Episode Reward: 310.0 Episode number: 239\n",
            "Epochs per episode: 630 Episode Reward: 370.0 Episode number: 240\n",
            "Epochs per episode: 1106 Episode Reward: 590.0 Episode number: 241\n",
            "Epochs per episode: 587 Episode Reward: 170.0 Episode number: 242\n",
            "Epochs per episode: 584 Episode Reward: 180.0 Episode number: 243\n",
            "Epochs per episode: 564 Episode Reward: 190.0 Episode number: 244\n",
            "Epochs per episode: 578 Episode Reward: 210.0 Episode number: 245\n",
            "Epochs per episode: 686 Episode Reward: 430.0 Episode number: 246\n",
            "Epochs per episode: 750 Episode Reward: 320.0 Episode number: 247\n",
            "Epochs per episode: 726 Episode Reward: 340.0 Episode number: 248\n",
            "Epochs per episode: 592 Episode Reward: 270.0 Episode number: 249\n",
            "Epochs per episode: 1046 Episode Reward: 860.0 Episode number: 250\n",
            "Epochs per episode: 541 Episode Reward: 200.0 Episode number: 251\n",
            "Epochs per episode: 1090 Episode Reward: 660.0 Episode number: 252\n",
            "Epochs per episode: 530 Episode Reward: 140.0 Episode number: 253\n",
            "Epochs per episode: 654 Episode Reward: 350.0 Episode number: 254\n",
            "Epochs per episode: 659 Episode Reward: 360.0 Episode number: 255\n",
            "Epochs per episode: 580 Episode Reward: 340.0 Episode number: 256\n",
            "Epochs per episode: 854 Episode Reward: 500.0 Episode number: 257\n",
            "Epochs per episode: 546 Episode Reward: 270.0 Episode number: 258\n",
            "Epochs per episode: 872 Episode Reward: 420.0 Episode number: 259\n",
            "Epochs per episode: 933 Episode Reward: 470.0 Episode number: 260\n",
            "Epochs per episode: 626 Episode Reward: 280.0 Episode number: 261\n",
            "Epochs per episode: 993 Episode Reward: 740.0 Episode number: 262\n",
            "Epochs per episode: 615 Episode Reward: 360.0 Episode number: 263\n",
            "Epochs per episode: 710 Episode Reward: 500.0 Episode number: 264\n",
            "Epochs per episode: 874 Episode Reward: 430.0 Episode number: 265\n",
            "Epochs per episode: 662 Episode Reward: 310.0 Episode number: 266\n",
            "Epochs per episode: 531 Episode Reward: 220.0 Episode number: 267\n",
            "Epochs per episode: 883 Episode Reward: 1080.0 Episode number: 268\n",
            "Epochs per episode: 1051 Episode Reward: 550.0 Episode number: 269\n",
            "Epochs per episode: 857 Episode Reward: 640.0 Episode number: 270\n",
            "Epochs per episode: 739 Episode Reward: 460.0 Episode number: 271\n",
            "Epochs per episode: 587 Episode Reward: 270.0 Episode number: 272\n",
            "Epochs per episode: 668 Episode Reward: 330.0 Episode number: 273\n",
            "Epochs per episode: 1059 Episode Reward: 650.0 Episode number: 274\n",
            "Epochs per episode: 540 Episode Reward: 280.0 Episode number: 275\n",
            "Epochs per episode: 569 Episode Reward: 330.0 Episode number: 276\n",
            "Epochs per episode: 801 Episode Reward: 390.0 Episode number: 277\n",
            "Epochs per episode: 657 Episode Reward: 330.0 Episode number: 278\n",
            "Epochs per episode: 586 Episode Reward: 240.0 Episode number: 279\n",
            "Epochs per episode: 667 Episode Reward: 340.0 Episode number: 280\n",
            "Epochs per episode: 654 Episode Reward: 270.0 Episode number: 281\n",
            "Epochs per episode: 1044 Episode Reward: 600.0 Episode number: 282\n",
            "Epochs per episode: 921 Episode Reward: 580.0 Episode number: 283\n",
            "Epochs per episode: 740 Episode Reward: 520.0 Episode number: 284\n",
            "Epochs per episode: 647 Episode Reward: 270.0 Episode number: 285\n",
            "Epochs per episode: 1050 Episode Reward: 920.0 Episode number: 286\n",
            "Epochs per episode: 1144 Episode Reward: 940.0 Episode number: 287\n",
            "Epochs per episode: 582 Episode Reward: 220.0 Episode number: 288\n",
            "Epochs per episode: 705 Episode Reward: 330.0 Episode number: 289\n",
            "Epochs per episode: 979 Episode Reward: 540.0 Episode number: 290\n",
            "Epochs per episode: 745 Episode Reward: 380.0 Episode number: 291\n",
            "Epochs per episode: 679 Episode Reward: 350.0 Episode number: 292\n",
            "Epochs per episode: 524 Episode Reward: 270.0 Episode number: 293\n",
            "Epochs per episode: 769 Episode Reward: 320.0 Episode number: 294\n",
            "Epochs per episode: 1168 Episode Reward: 1080.0 Episode number: 295\n",
            "Epochs per episode: 862 Episode Reward: 420.0 Episode number: 296\n",
            "Epochs per episode: 696 Episode Reward: 310.0 Episode number: 297\n",
            "Epochs per episode: 987 Episode Reward: 1010.0 Episode number: 298\n",
            "Epochs per episode: 842 Episode Reward: 520.0 Episode number: 299\n",
            "Epochs per episode: 692 Episode Reward: 280.0 Episode number: 300\n",
            "Epochs per episode: 612 Episode Reward: 250.0 Episode number: 301\n",
            "Epochs per episode: 513 Episode Reward: 230.0 Episode number: 302\n",
            "Epochs per episode: 926 Episode Reward: 580.0 Episode number: 303\n",
            "Epochs per episode: 738 Episode Reward: 460.0 Episode number: 304\n",
            "Epochs per episode: 662 Episode Reward: 280.0 Episode number: 305\n",
            "Epochs per episode: 545 Episode Reward: 310.0 Episode number: 306\n",
            "Epochs per episode: 900 Episode Reward: 630.0 Episode number: 307\n",
            "Epochs per episode: 592 Episode Reward: 210.0 Episode number: 308\n",
            "Epochs per episode: 1089 Episode Reward: 800.0 Episode number: 309\n",
            "Epochs per episode: 691 Episode Reward: 320.0 Episode number: 310\n",
            "Epochs per episode: 626 Episode Reward: 300.0 Episode number: 311\n",
            "Epochs per episode: 621 Episode Reward: 330.0 Episode number: 312\n",
            "Epochs per episode: 680 Episode Reward: 220.0 Episode number: 313\n",
            "Epochs per episode: 843 Episode Reward: 520.0 Episode number: 314\n",
            "Epochs per episode: 404 Episode Reward: 100.0 Episode number: 315\n",
            "Epochs per episode: 591 Episode Reward: 250.0 Episode number: 316\n",
            "Epochs per episode: 1029 Episode Reward: 830.0 Episode number: 317\n",
            "Epochs per episode: 678 Episode Reward: 400.0 Episode number: 318\n",
            "Epochs per episode: 713 Episode Reward: 390.0 Episode number: 319\n",
            "Epochs per episode: 653 Episode Reward: 210.0 Episode number: 320\n",
            "Epochs per episode: 504 Episode Reward: 230.0 Episode number: 321\n",
            "Epochs per episode: 767 Episode Reward: 340.0 Episode number: 322\n",
            "Epochs per episode: 806 Episode Reward: 410.0 Episode number: 323\n",
            "Epochs per episode: 539 Episode Reward: 210.0 Episode number: 324\n",
            "Epochs per episode: 581 Episode Reward: 310.0 Episode number: 325\n",
            "Epochs per episode: 655 Episode Reward: 310.0 Episode number: 326\n",
            "Epochs per episode: 616 Episode Reward: 340.0 Episode number: 327\n",
            "Epochs per episode: 577 Episode Reward: 340.0 Episode number: 328\n",
            "Epochs per episode: 679 Episode Reward: 210.0 Episode number: 329\n",
            "Epochs per episode: 629 Episode Reward: 310.0 Episode number: 330\n",
            "Epochs per episode: 552 Episode Reward: 270.0 Episode number: 331\n",
            "Epochs per episode: 700 Episode Reward: 250.0 Episode number: 332\n",
            "Epochs per episode: 848 Episode Reward: 540.0 Episode number: 333\n",
            "Epochs per episode: 683 Episode Reward: 200.0 Episode number: 334\n",
            "Epochs per episode: 749 Episode Reward: 1010.0 Episode number: 335\n",
            "Epochs per episode: 396 Episode Reward: 100.0 Episode number: 336\n",
            "Epochs per episode: 598 Episode Reward: 230.0 Episode number: 337\n",
            "Epochs per episode: 1070 Episode Reward: 620.0 Episode number: 338\n",
            "Epochs per episode: 647 Episode Reward: 290.0 Episode number: 339\n",
            "Epochs per episode: 706 Episode Reward: 350.0 Episode number: 340\n",
            "Epochs per episode: 479 Episode Reward: 180.0 Episode number: 341\n",
            "Epochs per episode: 456 Episode Reward: 170.0 Episode number: 342\n",
            "Epochs per episode: 976 Episode Reward: 580.0 Episode number: 343\n",
            "Epochs per episode: 649 Episode Reward: 340.0 Episode number: 344\n",
            "Epochs per episode: 661 Episode Reward: 320.0 Episode number: 345\n",
            "Epochs per episode: 689 Episode Reward: 330.0 Episode number: 346\n",
            "Epochs per episode: 868 Episode Reward: 480.0 Episode number: 347\n",
            "Epochs per episode: 1650 Episode Reward: 870.0 Episode number: 348\n",
            "Epochs per episode: 783 Episode Reward: 370.0 Episode number: 349\n",
            "Epochs per episode: 753 Episode Reward: 390.0 Episode number: 350\n",
            "Epochs per episode: 713 Episode Reward: 430.0 Episode number: 351\n",
            "Epochs per episode: 663 Episode Reward: 170.0 Episode number: 352\n",
            "Epochs per episode: 573 Episode Reward: 290.0 Episode number: 353\n",
            "Epochs per episode: 686 Episode Reward: 260.0 Episode number: 354\n",
            "Epochs per episode: 914 Episode Reward: 540.0 Episode number: 355\n",
            "Epochs per episode: 668 Episode Reward: 350.0 Episode number: 356\n",
            "Epochs per episode: 733 Episode Reward: 290.0 Episode number: 357\n",
            "Epochs per episode: 817 Episode Reward: 670.0 Episode number: 358\n",
            "Epochs per episode: 1043 Episode Reward: 570.0 Episode number: 359\n",
            "Epochs per episode: 506 Episode Reward: 380.0 Episode number: 360\n",
            "Epochs per episode: 636 Episode Reward: 310.0 Episode number: 361\n",
            "Epochs per episode: 685 Episode Reward: 290.0 Episode number: 362\n",
            "Epochs per episode: 558 Episode Reward: 230.0 Episode number: 363\n",
            "Epochs per episode: 802 Episode Reward: 1080.0 Episode number: 364\n",
            "Epochs per episode: 859 Episode Reward: 420.0 Episode number: 365\n",
            "Epochs per episode: 922 Episode Reward: 660.0 Episode number: 366\n",
            "Epochs per episode: 1053 Episode Reward: 700.0 Episode number: 367\n",
            "Epochs per episode: 579 Episode Reward: 250.0 Episode number: 368\n",
            "Epochs per episode: 665 Episode Reward: 410.0 Episode number: 369\n",
            "Epochs per episode: 1007 Episode Reward: 450.0 Episode number: 370\n",
            "Epochs per episode: 801 Episode Reward: 620.0 Episode number: 371\n",
            "Epochs per episode: 715 Episode Reward: 430.0 Episode number: 372\n",
            "Epochs per episode: 661 Episode Reward: 420.0 Episode number: 373\n",
            "Epochs per episode: 953 Episode Reward: 780.0 Episode number: 374\n",
            "Epochs per episode: 908 Episode Reward: 720.0 Episode number: 375\n",
            "Epochs per episode: 603 Episode Reward: 270.0 Episode number: 376\n",
            "Epochs per episode: 633 Episode Reward: 420.0 Episode number: 377\n",
            "Epochs per episode: 738 Episode Reward: 1200.0 Episode number: 378\n",
            "Epochs per episode: 758 Episode Reward: 480.0 Episode number: 379\n",
            "Epochs per episode: 980 Episode Reward: 1110.0 Episode number: 380\n",
            "Epochs per episode: 598 Episode Reward: 370.0 Episode number: 381\n",
            "Epochs per episode: 575 Episode Reward: 220.0 Episode number: 382\n",
            "Epochs per episode: 682 Episode Reward: 240.0 Episode number: 383\n",
            "Epochs per episode: 1025 Episode Reward: 1060.0 Episode number: 384\n",
            "Epochs per episode: 1045 Episode Reward: 1000.0 Episode number: 385\n",
            "Epochs per episode: 692 Episode Reward: 350.0 Episode number: 386\n",
            "Epochs per episode: 823 Episode Reward: 900.0 Episode number: 387\n",
            "Epochs per episode: 563 Episode Reward: 300.0 Episode number: 388\n",
            "Epochs per episode: 611 Episode Reward: 400.0 Episode number: 389\n",
            "Epochs per episode: 906 Episode Reward: 510.0 Episode number: 390\n",
            "Epochs per episode: 757 Episode Reward: 430.0 Episode number: 391\n",
            "Epochs per episode: 990 Episode Reward: 690.0 Episode number: 392\n",
            "Epochs per episode: 798 Episode Reward: 800.0 Episode number: 393\n",
            "Epochs per episode: 548 Episode Reward: 280.0 Episode number: 394\n",
            "Epochs per episode: 798 Episode Reward: 580.0 Episode number: 395\n",
            "Epochs per episode: 652 Episode Reward: 270.0 Episode number: 396\n",
            "Epochs per episode: 1246 Episode Reward: 1330.0 Episode number: 397\n",
            "Epochs per episode: 903 Episode Reward: 810.0 Episode number: 398\n",
            "Epochs per episode: 619 Episode Reward: 270.0 Episode number: 399\n",
            "Epochs per episode: 703 Episode Reward: 410.0 Episode number: 400\n"
          ],
          "name": "stdout"
        }
      ]
    },
    {
      "cell_type": "markdown",
      "metadata": {
        "id": "b9gc_JmXa3Gb",
        "colab_type": "text"
      },
      "source": [
        ""
      ]
    },
    {
      "cell_type": "code",
      "metadata": {
        "id": "Gz6P6D7SajQS",
        "colab_type": "code",
        "colab": {
          "base_uri": "https://localhost:8080/",
          "height": 265
        },
        "outputId": "a82022e6-33b4-475b-8b98-8b9c9a617d7d"
      },
      "source": [
        "plt.plot(history)\n",
        "plt.show()"
      ],
      "execution_count": 16,
      "outputs": [
        {
          "output_type": "display_data",
          "data": {
            "image/png": "[encoded data removed]",
            "text/plain": [
              "<Figure size 432x288 with 1 Axes>"
            ]
          },
          "metadata": {
            "tags": []
          }
        }
      ]
    },
    {
      "cell_type": "markdown",
      "metadata": {
        "id": "KsSn6yUF6g9g",
        "colab_type": "text"
      },
      "source": [
        "The graph above shows a very noisy trend. However, it's mean result does seem to increase and the lower bound of the graph clearly increases over time. "
      ]
    }
  ]
}